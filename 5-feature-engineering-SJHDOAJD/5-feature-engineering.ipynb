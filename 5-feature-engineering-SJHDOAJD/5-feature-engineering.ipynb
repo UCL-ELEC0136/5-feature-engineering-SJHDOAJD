{
 "cells": [
  {
   "cell_type": "markdown",
   "metadata": {},
   "source": [
    "<div width=50% style=\"display: block; margin: auto\">\n",
    "    <img src=\"figures/ucl-logo.svg\" width=100%>\n",
    "</div>\n",
    "\n",
    "### UCL-ELEC0136 Data Acquisition and Processing Systems 2024\n",
    "University College London\n",
    "# Lab 5: Feature engineering\n",
    "<hr>"
   ]
  },
  {
   "cell_type": "markdown",
   "metadata": {},
   "source": [
    "### Objectives\n",
    "\n",
    "- Gain practical experience of dealing with real-world data\n",
    "- Develop intuition and understanding of how operations on input features can affect model performance, and when to use them\n",
    "- Develop familiarity different methods for assessing feature importance\n",
    "\n",
    "### Outline\n",
    "\n",
    "0. [Setup](#0-setup)\n",
    "1. [Dealing with missing values](#1-dealing-with-missing-values)\n",
    "2. [Transforming the distributions of features](#2-transforming-the-distributions-of-features)\n",
    "3. [Discretising an input feature](#3-discretising-an-input-feature)\n",
    "4. [Feature selection](#4-feature-selection)"
   ]
  },
  {
   "cell_type": "markdown",
   "metadata": {},
   "source": [
    "<hr>\n",
    "\n",
    "## 0. Setup\n"
   ]
  },
  {
   "cell_type": "markdown",
   "metadata": {},
   "source": [
    "### 0.1 Prerequisites\n",
    "First, we need to install the necessary packages for this lab. The packages are:\n",
    "\n",
    "- `ucimlrepo`: real-life datasets for machine learning\n",
    "- `scikit-learn`: statistical machine learning models\n",
    "- `shap`: importance/relevancy metrics\n",
    "\n",
    "<div class=\"alert alert-block alert-danger\">\n",
    "<h4>👩‍💻 Task 0.1: Install prerequisites</h4>\n",
    "\n",
    "Install the packages that are required for this lab.\n",
    "\n",
    "<details>\n",
    "<summary>🔎 Hint</summary>\n",
    "\n",
    "Remember, there are two steps to adding packages to your `daps` Python environment. You need to:\n",
    "1. **Add the package to the requirements file**.\n",
    "2. **Install all the requirements in the requirements file.**\n",
    "\n",
    "</details>\n",
    "\n",
    "</div>"
   ]
  },
  {
   "cell_type": "markdown",
   "metadata": {},
   "source": [
    "### 0.2 Fetching the dataset\n",
    "\n",
    "We'll be using a dataset containing data from a heart disease study in Cleveland, OH, USA.\n",
    "Using this data, we should be able to predict whether a patient has heart disease, given various measurements that can be taken by a doctor.\n",
    "\n",
    "For a more detailed explanation of the dataset, see [here](https://archive.ics.uci.edu/dataset/45/heart+disease)."
   ]
  },
  {
   "cell_type": "code",
   "execution_count": 1,
   "metadata": {},
   "outputs": [
    {
     "data": {
      "text/html": [
       "<div>\n",
       "<style scoped>\n",
       "    .dataframe tbody tr th:only-of-type {\n",
       "        vertical-align: middle;\n",
       "    }\n",
       "\n",
       "    .dataframe tbody tr th {\n",
       "        vertical-align: top;\n",
       "    }\n",
       "\n",
       "    .dataframe thead th {\n",
       "        text-align: right;\n",
       "    }\n",
       "</style>\n",
       "<table border=\"1\" class=\"dataframe\">\n",
       "  <thead>\n",
       "    <tr style=\"text-align: right;\">\n",
       "      <th></th>\n",
       "      <th>name</th>\n",
       "      <th>role</th>\n",
       "      <th>type</th>\n",
       "      <th>demographic</th>\n",
       "      <th>description</th>\n",
       "      <th>units</th>\n",
       "      <th>missing_values</th>\n",
       "    </tr>\n",
       "  </thead>\n",
       "  <tbody>\n",
       "    <tr>\n",
       "      <th>0</th>\n",
       "      <td>age</td>\n",
       "      <td>Feature</td>\n",
       "      <td>Integer</td>\n",
       "      <td>Age</td>\n",
       "      <td>None</td>\n",
       "      <td>years</td>\n",
       "      <td>no</td>\n",
       "    </tr>\n",
       "    <tr>\n",
       "      <th>1</th>\n",
       "      <td>sex</td>\n",
       "      <td>Feature</td>\n",
       "      <td>Categorical</td>\n",
       "      <td>Sex</td>\n",
       "      <td>None</td>\n",
       "      <td>None</td>\n",
       "      <td>no</td>\n",
       "    </tr>\n",
       "    <tr>\n",
       "      <th>2</th>\n",
       "      <td>cp</td>\n",
       "      <td>Feature</td>\n",
       "      <td>Categorical</td>\n",
       "      <td>None</td>\n",
       "      <td>None</td>\n",
       "      <td>None</td>\n",
       "      <td>no</td>\n",
       "    </tr>\n",
       "    <tr>\n",
       "      <th>3</th>\n",
       "      <td>trestbps</td>\n",
       "      <td>Feature</td>\n",
       "      <td>Integer</td>\n",
       "      <td>None</td>\n",
       "      <td>resting blood pressure (on admission to the ho...</td>\n",
       "      <td>mm Hg</td>\n",
       "      <td>no</td>\n",
       "    </tr>\n",
       "    <tr>\n",
       "      <th>4</th>\n",
       "      <td>chol</td>\n",
       "      <td>Feature</td>\n",
       "      <td>Integer</td>\n",
       "      <td>None</td>\n",
       "      <td>serum cholestoral</td>\n",
       "      <td>mg/dl</td>\n",
       "      <td>no</td>\n",
       "    </tr>\n",
       "    <tr>\n",
       "      <th>5</th>\n",
       "      <td>fbs</td>\n",
       "      <td>Feature</td>\n",
       "      <td>Categorical</td>\n",
       "      <td>None</td>\n",
       "      <td>fasting blood sugar &gt; 120 mg/dl</td>\n",
       "      <td>None</td>\n",
       "      <td>no</td>\n",
       "    </tr>\n",
       "    <tr>\n",
       "      <th>6</th>\n",
       "      <td>restecg</td>\n",
       "      <td>Feature</td>\n",
       "      <td>Categorical</td>\n",
       "      <td>None</td>\n",
       "      <td>None</td>\n",
       "      <td>None</td>\n",
       "      <td>no</td>\n",
       "    </tr>\n",
       "    <tr>\n",
       "      <th>7</th>\n",
       "      <td>thalach</td>\n",
       "      <td>Feature</td>\n",
       "      <td>Integer</td>\n",
       "      <td>None</td>\n",
       "      <td>maximum heart rate achieved</td>\n",
       "      <td>None</td>\n",
       "      <td>no</td>\n",
       "    </tr>\n",
       "    <tr>\n",
       "      <th>8</th>\n",
       "      <td>exang</td>\n",
       "      <td>Feature</td>\n",
       "      <td>Categorical</td>\n",
       "      <td>None</td>\n",
       "      <td>exercise induced angina</td>\n",
       "      <td>None</td>\n",
       "      <td>no</td>\n",
       "    </tr>\n",
       "    <tr>\n",
       "      <th>9</th>\n",
       "      <td>oldpeak</td>\n",
       "      <td>Feature</td>\n",
       "      <td>Integer</td>\n",
       "      <td>None</td>\n",
       "      <td>ST depression induced by exercise relative to ...</td>\n",
       "      <td>None</td>\n",
       "      <td>no</td>\n",
       "    </tr>\n",
       "    <tr>\n",
       "      <th>10</th>\n",
       "      <td>slope</td>\n",
       "      <td>Feature</td>\n",
       "      <td>Categorical</td>\n",
       "      <td>None</td>\n",
       "      <td>None</td>\n",
       "      <td>None</td>\n",
       "      <td>no</td>\n",
       "    </tr>\n",
       "    <tr>\n",
       "      <th>11</th>\n",
       "      <td>ca</td>\n",
       "      <td>Feature</td>\n",
       "      <td>Integer</td>\n",
       "      <td>None</td>\n",
       "      <td>number of major vessels (0-3) colored by flour...</td>\n",
       "      <td>None</td>\n",
       "      <td>yes</td>\n",
       "    </tr>\n",
       "    <tr>\n",
       "      <th>12</th>\n",
       "      <td>thal</td>\n",
       "      <td>Feature</td>\n",
       "      <td>Categorical</td>\n",
       "      <td>None</td>\n",
       "      <td>None</td>\n",
       "      <td>None</td>\n",
       "      <td>yes</td>\n",
       "    </tr>\n",
       "    <tr>\n",
       "      <th>13</th>\n",
       "      <td>num</td>\n",
       "      <td>Target</td>\n",
       "      <td>Integer</td>\n",
       "      <td>None</td>\n",
       "      <td>diagnosis of heart disease</td>\n",
       "      <td>None</td>\n",
       "      <td>no</td>\n",
       "    </tr>\n",
       "  </tbody>\n",
       "</table>\n",
       "</div>"
      ],
      "text/plain": [
       "        name     role         type demographic  \\\n",
       "0        age  Feature      Integer         Age   \n",
       "1        sex  Feature  Categorical         Sex   \n",
       "2         cp  Feature  Categorical        None   \n",
       "3   trestbps  Feature      Integer        None   \n",
       "4       chol  Feature      Integer        None   \n",
       "5        fbs  Feature  Categorical        None   \n",
       "6    restecg  Feature  Categorical        None   \n",
       "7    thalach  Feature      Integer        None   \n",
       "8      exang  Feature  Categorical        None   \n",
       "9    oldpeak  Feature      Integer        None   \n",
       "10     slope  Feature  Categorical        None   \n",
       "11        ca  Feature      Integer        None   \n",
       "12      thal  Feature  Categorical        None   \n",
       "13       num   Target      Integer        None   \n",
       "\n",
       "                                          description  units missing_values  \n",
       "0                                                None  years             no  \n",
       "1                                                None   None             no  \n",
       "2                                                None   None             no  \n",
       "3   resting blood pressure (on admission to the ho...  mm Hg             no  \n",
       "4                                   serum cholestoral  mg/dl             no  \n",
       "5                     fasting blood sugar > 120 mg/dl   None             no  \n",
       "6                                                None   None             no  \n",
       "7                         maximum heart rate achieved   None             no  \n",
       "8                             exercise induced angina   None             no  \n",
       "9   ST depression induced by exercise relative to ...   None             no  \n",
       "10                                               None   None             no  \n",
       "11  number of major vessels (0-3) colored by flour...   None            yes  \n",
       "12                                               None   None            yes  \n",
       "13                         diagnosis of heart disease   None             no  "
      ]
     },
     "execution_count": 1,
     "metadata": {},
     "output_type": "execute_result"
    }
   ],
   "source": [
    "from ucimlrepo import fetch_ucirepo \n",
    "import ssl\n",
    "\n",
    "# Ignore ssl certificate verification\n",
    "# We have to do this because in between writing the lab and delivering it, the SSL certificate of the UCIML website expired.\n",
    "# This is a hacky fix. It is terrible practice.\n",
    "# The correct thing to do would be to pester the website owners to update their SSL certificate, but we didn't have time.\n",
    "ssl._create_default_https_context = ssl._create_unverified_context\n",
    "\n",
    "heart_disease = fetch_ucirepo(id=45) \n",
    "  \n",
    "X = heart_disease.data.features \n",
    "y = heart_disease.data.targets \n",
    "  \n",
    "heart_disease.variables "
   ]
  },
  {
   "cell_type": "code",
   "execution_count": 2,
   "metadata": {},
   "outputs": [
    {
     "data": {
      "text/html": [
       "<div>\n",
       "<style scoped>\n",
       "    .dataframe tbody tr th:only-of-type {\n",
       "        vertical-align: middle;\n",
       "    }\n",
       "\n",
       "    .dataframe tbody tr th {\n",
       "        vertical-align: top;\n",
       "    }\n",
       "\n",
       "    .dataframe thead th {\n",
       "        text-align: right;\n",
       "    }\n",
       "</style>\n",
       "<table border=\"1\" class=\"dataframe\">\n",
       "  <thead>\n",
       "    <tr style=\"text-align: right;\">\n",
       "      <th></th>\n",
       "      <th>age</th>\n",
       "      <th>sex</th>\n",
       "      <th>cp</th>\n",
       "      <th>trestbps</th>\n",
       "      <th>chol</th>\n",
       "      <th>fbs</th>\n",
       "      <th>restecg</th>\n",
       "      <th>thalach</th>\n",
       "      <th>exang</th>\n",
       "      <th>oldpeak</th>\n",
       "      <th>slope</th>\n",
       "      <th>ca</th>\n",
       "      <th>thal</th>\n",
       "    </tr>\n",
       "  </thead>\n",
       "  <tbody>\n",
       "    <tr>\n",
       "      <th>0</th>\n",
       "      <td>63</td>\n",
       "      <td>1</td>\n",
       "      <td>1</td>\n",
       "      <td>145</td>\n",
       "      <td>233</td>\n",
       "      <td>1</td>\n",
       "      <td>2</td>\n",
       "      <td>150</td>\n",
       "      <td>0</td>\n",
       "      <td>2.3</td>\n",
       "      <td>3</td>\n",
       "      <td>0.0</td>\n",
       "      <td>6.0</td>\n",
       "    </tr>\n",
       "    <tr>\n",
       "      <th>1</th>\n",
       "      <td>67</td>\n",
       "      <td>1</td>\n",
       "      <td>4</td>\n",
       "      <td>160</td>\n",
       "      <td>286</td>\n",
       "      <td>0</td>\n",
       "      <td>2</td>\n",
       "      <td>108</td>\n",
       "      <td>1</td>\n",
       "      <td>1.5</td>\n",
       "      <td>2</td>\n",
       "      <td>3.0</td>\n",
       "      <td>3.0</td>\n",
       "    </tr>\n",
       "    <tr>\n",
       "      <th>2</th>\n",
       "      <td>67</td>\n",
       "      <td>1</td>\n",
       "      <td>4</td>\n",
       "      <td>120</td>\n",
       "      <td>229</td>\n",
       "      <td>0</td>\n",
       "      <td>2</td>\n",
       "      <td>129</td>\n",
       "      <td>1</td>\n",
       "      <td>2.6</td>\n",
       "      <td>2</td>\n",
       "      <td>2.0</td>\n",
       "      <td>7.0</td>\n",
       "    </tr>\n",
       "    <tr>\n",
       "      <th>3</th>\n",
       "      <td>37</td>\n",
       "      <td>1</td>\n",
       "      <td>3</td>\n",
       "      <td>130</td>\n",
       "      <td>250</td>\n",
       "      <td>0</td>\n",
       "      <td>0</td>\n",
       "      <td>187</td>\n",
       "      <td>0</td>\n",
       "      <td>3.5</td>\n",
       "      <td>3</td>\n",
       "      <td>0.0</td>\n",
       "      <td>3.0</td>\n",
       "    </tr>\n",
       "    <tr>\n",
       "      <th>4</th>\n",
       "      <td>41</td>\n",
       "      <td>0</td>\n",
       "      <td>2</td>\n",
       "      <td>130</td>\n",
       "      <td>204</td>\n",
       "      <td>0</td>\n",
       "      <td>2</td>\n",
       "      <td>172</td>\n",
       "      <td>0</td>\n",
       "      <td>1.4</td>\n",
       "      <td>1</td>\n",
       "      <td>0.0</td>\n",
       "      <td>3.0</td>\n",
       "    </tr>\n",
       "  </tbody>\n",
       "</table>\n",
       "</div>"
      ],
      "text/plain": [
       "   age  sex  cp  trestbps  chol  fbs  restecg  thalach  exang  oldpeak  slope  \\\n",
       "0   63    1   1       145   233    1        2      150      0      2.3      3   \n",
       "1   67    1   4       160   286    0        2      108      1      1.5      2   \n",
       "2   67    1   4       120   229    0        2      129      1      2.6      2   \n",
       "3   37    1   3       130   250    0        0      187      0      3.5      3   \n",
       "4   41    0   2       130   204    0        2      172      0      1.4      1   \n",
       "\n",
       "    ca  thal  \n",
       "0  0.0   6.0  \n",
       "1  3.0   3.0  \n",
       "2  2.0   7.0  \n",
       "3  0.0   3.0  \n",
       "4  0.0   3.0  "
      ]
     },
     "execution_count": 2,
     "metadata": {},
     "output_type": "execute_result"
    }
   ],
   "source": [
    "# Show some example inputs\n",
    "X.head()"
   ]
  },
  {
   "cell_type": "code",
   "execution_count": 16,
   "metadata": {},
   "outputs": [
    {
     "data": {
      "text/html": [
       "<div>\n",
       "<style scoped>\n",
       "    .dataframe tbody tr th:only-of-type {\n",
       "        vertical-align: middle;\n",
       "    }\n",
       "\n",
       "    .dataframe tbody tr th {\n",
       "        vertical-align: top;\n",
       "    }\n",
       "\n",
       "    .dataframe thead th {\n",
       "        text-align: right;\n",
       "    }\n",
       "</style>\n",
       "<table border=\"1\" class=\"dataframe\">\n",
       "  <thead>\n",
       "    <tr style=\"text-align: right;\">\n",
       "      <th></th>\n",
       "      <th>num</th>\n",
       "    </tr>\n",
       "  </thead>\n",
       "  <tbody>\n",
       "    <tr>\n",
       "      <th>0</th>\n",
       "      <td>0</td>\n",
       "    </tr>\n",
       "    <tr>\n",
       "      <th>1</th>\n",
       "      <td>1</td>\n",
       "    </tr>\n",
       "    <tr>\n",
       "      <th>2</th>\n",
       "      <td>1</td>\n",
       "    </tr>\n",
       "    <tr>\n",
       "      <th>3</th>\n",
       "      <td>0</td>\n",
       "    </tr>\n",
       "    <tr>\n",
       "      <th>4</th>\n",
       "      <td>0</td>\n",
       "    </tr>\n",
       "  </tbody>\n",
       "</table>\n",
       "</div>"
      ],
      "text/plain": [
       "   num\n",
       "0    0\n",
       "1    1\n",
       "2    1\n",
       "3    0\n",
       "4    0"
      ]
     },
     "execution_count": 16,
     "metadata": {},
     "output_type": "execute_result"
    }
   ],
   "source": [
    "# Show some example outputs\n",
    "y.head()"
   ]
  },
  {
   "cell_type": "markdown",
   "metadata": {},
   "source": [
    "Here, `num` is nonzero if the patient has some form of heart disease. We need to encode this to a binary variable (`0` or `1`)."
   ]
  },
  {
   "cell_type": "markdown",
   "metadata": {},
   "source": [
    "<div class=\"alert alert-block alert-danger\">\n",
    "<h4>👩‍💻 Task 0.1: Encode output variable</h4>\n",
    "\n",
    "Modify the `y` DataFrame so that entries are `1` if the patient has some form of heart disease and `0` otherwise.\n",
    "</div>"
   ]
  },
  {
   "cell_type": "code",
   "execution_count": 20,
   "metadata": {},
   "outputs": [
    {
     "name": "stdout",
     "output_type": "stream",
     "text": [
      "     num\n",
      "0      0\n",
      "1      1\n",
      "2      1\n",
      "3      0\n",
      "4      0\n",
      "..   ...\n",
      "298    1\n",
      "299    1\n",
      "300    1\n",
      "301    1\n",
      "302    0\n",
      "\n",
      "[303 rows x 1 columns]\n"
     ]
    },
    {
     "name": "stderr",
     "output_type": "stream",
     "text": [
      "C:\\Users\\zhr\\AppData\\Local\\Temp\\ipykernel_17848\\2859717798.py:3: SettingWithCopyWarning: \n",
      "A value is trying to be set on a copy of a slice from a DataFrame\n",
      "\n",
      "See the caveats in the documentation: https://pandas.pydata.org/pandas-docs/stable/user_guide/indexing.html#returning-a-view-versus-a-copy\n",
      "  y.loc[y[\"num\"]>0]=1\n"
     ]
    }
   ],
   "source": [
    "# Add your code here:\n",
    "\n",
    "y.loc[y[\"num\"]>0]=1\n",
    "print(y)"
   ]
  },
  {
   "cell_type": "markdown",
   "metadata": {},
   "source": [
    "When evaluating the performance of a model, we need some data that the model hasn't seen. `scikit-learn` provides a handy function for producing a \"test\" (held-out) set, that is only used during evaluation:"
   ]
  },
  {
   "cell_type": "code",
   "execution_count": 21,
   "metadata": {},
   "outputs": [
    {
     "name": "stdout",
     "output_type": "stream",
     "text": [
      "Help on function train_test_split in module sklearn.model_selection._split:\n",
      "\n",
      "train_test_split(*arrays, test_size=None, train_size=None, random_state=None, shuffle=True, stratify=None)\n",
      "    Split arrays or matrices into random train and test subsets.\n",
      "    \n",
      "    Quick utility that wraps input validation,\n",
      "    ``next(ShuffleSplit().split(X, y))``, and application to input data\n",
      "    into a single call for splitting (and optionally subsampling) data into a\n",
      "    one-liner.\n",
      "    \n",
      "    Read more in the :ref:`User Guide <cross_validation>`.\n",
      "    \n",
      "    Parameters\n",
      "    ----------\n",
      "    *arrays : sequence of indexables with same length / shape[0]\n",
      "        Allowed inputs are lists, numpy arrays, scipy-sparse\n",
      "        matrices or pandas dataframes.\n",
      "    \n",
      "    test_size : float or int, default=None\n",
      "        If float, should be between 0.0 and 1.0 and represent the proportion\n",
      "        of the dataset to include in the test split. If int, represents the\n",
      "        absolute number of test samples. If None, the value is set to the\n",
      "        complement of the train size. If ``train_size`` is also None, it will\n",
      "        be set to 0.25.\n",
      "    \n",
      "    train_size : float or int, default=None\n",
      "        If float, should be between 0.0 and 1.0 and represent the\n",
      "        proportion of the dataset to include in the train split. If\n",
      "        int, represents the absolute number of train samples. If None,\n",
      "        the value is automatically set to the complement of the test size.\n",
      "    \n",
      "    random_state : int, RandomState instance or None, default=None\n",
      "        Controls the shuffling applied to the data before applying the split.\n",
      "        Pass an int for reproducible output across multiple function calls.\n",
      "        See :term:`Glossary <random_state>`.\n",
      "    \n",
      "    shuffle : bool, default=True\n",
      "        Whether or not to shuffle the data before splitting. If shuffle=False\n",
      "        then stratify must be None.\n",
      "    \n",
      "    stratify : array-like, default=None\n",
      "        If not None, data is split in a stratified fashion, using this as\n",
      "        the class labels.\n",
      "        Read more in the :ref:`User Guide <stratification>`.\n",
      "    \n",
      "    Returns\n",
      "    -------\n",
      "    splitting : list, length=2 * len(arrays)\n",
      "        List containing train-test split of inputs.\n",
      "    \n",
      "        .. versionadded:: 0.16\n",
      "            If the input is sparse, the output will be a\n",
      "            ``scipy.sparse.csr_matrix``. Else, output type is the same as the\n",
      "            input type.\n",
      "    \n",
      "    Examples\n",
      "    --------\n",
      "    >>> import numpy as np\n",
      "    >>> from sklearn.model_selection import train_test_split\n",
      "    >>> X, y = np.arange(10).reshape((5, 2)), range(5)\n",
      "    >>> X\n",
      "    array([[0, 1],\n",
      "           [2, 3],\n",
      "           [4, 5],\n",
      "           [6, 7],\n",
      "           [8, 9]])\n",
      "    >>> list(y)\n",
      "    [0, 1, 2, 3, 4]\n",
      "    \n",
      "    >>> X_train, X_test, y_train, y_test = train_test_split(\n",
      "    ...     X, y, test_size=0.33, random_state=42)\n",
      "    ...\n",
      "    >>> X_train\n",
      "    array([[4, 5],\n",
      "           [0, 1],\n",
      "           [6, 7]])\n",
      "    >>> y_train\n",
      "    [2, 0, 3]\n",
      "    >>> X_test\n",
      "    array([[2, 3],\n",
      "           [8, 9]])\n",
      "    >>> y_test\n",
      "    [1, 4]\n",
      "    \n",
      "    >>> train_test_split(y, shuffle=False)\n",
      "    [[0, 1, 2], [3, 4]]\n",
      "\n"
     ]
    }
   ],
   "source": [
    "from sklearn.model_selection import train_test_split\n",
    "\n",
    "help(train_test_split)"
   ]
  },
  {
   "cell_type": "markdown",
   "metadata": {},
   "source": [
    "Note that we should preferably also use a *validation* set, but we're skipping it here for simplicity."
   ]
  },
  {
   "cell_type": "markdown",
   "metadata": {},
   "source": [
    "<div class=\"alert alert-block alert-danger\">\n",
    "<h4>👩‍💻 Task 0.2: Create training and test sets</h4>\n",
    "\n",
    "Using `train_test_split` only, shuffle the `(X, y)` data and split it into a training and a test set, with 80% of the data in the training set.\n",
    "\n",
    "For reproducibility, create a variable, `seed`, and set it to `42`. Use this to set the `random_state` of `train_test_split`. We'll reuse this variable in future to reseed other random processes.\n",
    "\n",
    "Your variable names should be `(X_train, y_train)` and `(X_test, y_test)`.\n",
    "</div>"
   ]
  },
  {
   "cell_type": "code",
   "execution_count": 22,
   "metadata": {},
   "outputs": [],
   "source": [
    "# Add your code here:\n",
    "seed = 42\n",
    "X_train,X_test,y_train,y_test=train_test_split(X, y, random_state=seed)"
   ]
  },
  {
   "cell_type": "code",
   "execution_count": 23,
   "metadata": {},
   "outputs": [],
   "source": [
    "# If this fails, it means you did something wrong!\n",
    "assert len(X_train) == len(y_train)\n",
    "assert len(X_test) == len(y_test)"
   ]
  },
  {
   "cell_type": "markdown",
   "metadata": {},
   "source": [
    "### 0.3 Using a machine learning model\n",
    "\n",
    "In this lab, we'll be using a [*support vector machine*](https://scikit-learn.org/stable/modules/svm.html) classifier. This is a simple but powerful statistical learning model provided by `scikit-learn`.\n",
    "\n",
    "> Understanding the inner workings of this model is not the point of this lab, so we treat it as a black box.\n",
    "\n",
    "We'll demo the SVM here using a **different** dataset:"
   ]
  },
  {
   "cell_type": "code",
   "execution_count": 24,
   "metadata": {},
   "outputs": [
    {
     "name": "stdout",
     "output_type": "stream",
     "text": [
      "Score on training set: 95.54%\n",
      "Score on test set: 100.00%\n"
     ]
    }
   ],
   "source": [
    "from sklearn.datasets import load_iris\n",
    "from models import support_vector_machine\n",
    "\n",
    "# Load the iris dataset\n",
    "X_iris, y_iris = load_iris(return_X_y=True)\n",
    "# Train/test split\n",
    "X_iris_train, X_iris_test, y_iris_train, y_iris_test = train_test_split(X_iris, y_iris, random_state=42)\n",
    "\n",
    "model = support_vector_machine.train(X_iris_train, y_iris_train)\n",
    "support_vector_machine.evaluate(model, X_iris_train, y_iris_train, X_iris_test, y_iris_test)"
   ]
  },
  {
   "cell_type": "markdown",
   "metadata": {},
   "source": [
    "Note the functions we're using: \n",
    "\n",
    "- `support_vector_machine.train` takes in the training data and returns a trained classifier\n",
    "- `support_vector_machine.evaluate` takes in the trained classifier, the training data, and the test data, and prints the score on the training and test sets.\n",
    "\n",
    "In the rest of the lab, you'll see how the performance of the classifier on the **heart disease dataset** can be affected by feature engineering. At each stage, we'll retrain the model on the feature-engineered data and see how it performs."
   ]
  },
  {
   "cell_type": "markdown",
   "metadata": {},
   "source": [
    "<hr>\n",
    "\n",
    "## 1. Dealing with missing values"
   ]
  },
  {
   "cell_type": "markdown",
   "metadata": {},
   "source": [
    "The first thing to do when receiving data is to check whether there are any missing values.\n",
    "\n",
    "As `X_train` is a `pd.DataFrame`, we can use the `isna` (short for \"is not applicable\" or \"is not a number\") method to generate a table that has `0` where the values are present, and `1` if the values are missing."
   ]
  },
  {
   "cell_type": "code",
   "execution_count": 25,
   "metadata": {},
   "outputs": [
    {
     "name": "stdout",
     "output_type": "stream",
     "text": [
      "Help on function isna in module pandas.core.frame:\n",
      "\n",
      "isna(self) -> 'DataFrame'\n",
      "    Detect missing values.\n",
      "    \n",
      "    Return a boolean same-sized object indicating if the values are NA.\n",
      "    NA values, such as None or :attr:`numpy.NaN`, gets mapped to True\n",
      "    values.\n",
      "    Everything else gets mapped to False values. Characters such as empty\n",
      "    strings ``''`` or :attr:`numpy.inf` are not considered NA values\n",
      "    (unless you set ``pandas.options.mode.use_inf_as_na = True``).\n",
      "    \n",
      "    Returns\n",
      "    -------\n",
      "    DataFrame\n",
      "        Mask of bool values for each element in DataFrame that\n",
      "        indicates whether an element is an NA value.\n",
      "    \n",
      "    See Also\n",
      "    --------\n",
      "    DataFrame.isnull : Alias of isna.\n",
      "    DataFrame.notna : Boolean inverse of isna.\n",
      "    DataFrame.dropna : Omit axes labels with missing values.\n",
      "    isna : Top-level isna.\n",
      "    \n",
      "    Examples\n",
      "    --------\n",
      "    Show which entries in a DataFrame are NA.\n",
      "    \n",
      "    >>> df = pd.DataFrame(dict(age=[5, 6, np.nan],\n",
      "    ...                        born=[pd.NaT, pd.Timestamp('1939-05-27'),\n",
      "    ...                              pd.Timestamp('1940-04-25')],\n",
      "    ...                        name=['Alfred', 'Batman', ''],\n",
      "    ...                        toy=[None, 'Batmobile', 'Joker']))\n",
      "    >>> df\n",
      "       age       born    name        toy\n",
      "    0  5.0        NaT  Alfred       None\n",
      "    1  6.0 1939-05-27  Batman  Batmobile\n",
      "    2  NaN 1940-04-25              Joker\n",
      "    \n",
      "    >>> df.isna()\n",
      "         age   born   name    toy\n",
      "    0  False   True  False   True\n",
      "    1  False  False  False  False\n",
      "    2   True  False  False  False\n",
      "    \n",
      "    Show which entries in a Series are NA.\n",
      "    \n",
      "    >>> ser = pd.Series([5, 6, np.nan])\n",
      "    >>> ser\n",
      "    0    5.0\n",
      "    1    6.0\n",
      "    2    NaN\n",
      "    dtype: float64\n",
      "    \n",
      "    >>> ser.isna()\n",
      "    0    False\n",
      "    1    False\n",
      "    2     True\n",
      "    dtype: bool\n",
      "\n"
     ]
    }
   ],
   "source": [
    "import pandas as pd\n",
    "help(pd.DataFrame.isna)"
   ]
  },
  {
   "cell_type": "markdown",
   "metadata": {},
   "source": [
    "<div class=\"alert alert-heading alert-danger\" style=\"background-color: white; border: 2px solid; border-radius: 5px; color: #000; border-color:#AAA; padding: 10px\">\n",
    "    <b>💎 Tip</b>\n",
    "\n",
    "- *Methods* are like functions that 'belong' to a specific object.\n",
    "- In the output of the `help` command above, there's an example of using the `isna` method of a `pd.DataFrame` object.\n",
    "- In `pandas`, you can often chain together methods on DataFrames in one line, like this:\n",
    "  ```python\n",
    "  X_train.sum().max()\n",
    "  ```\n",
    "- You might want to have the DataFrame documentation page open so that you can easily find any methods you need - this section should be solved using DataFrame methods alone (i.e., without manually iterating over rows in the data).\n",
    "\n",
    "</div>\n",
    "\n",
    "<div class=\"alert alert-block alert-danger\">\n",
    "<h4>👩‍💻 Task 1.1: Compute the percentage of missing values</h4>\n",
    "\n",
    "Using methods of the `X_train` DataFrame, compute the percentage of missing values for each input feature.\n",
    "\n",
    "</div>"
   ]
  },
  {
   "cell_type": "code",
   "execution_count": 36,
   "metadata": {},
   "outputs": [
    {
     "data": {
      "text/plain": [
       "age         0.000000\n",
       "sex         0.000000\n",
       "cp          0.000000\n",
       "trestbps    0.000000\n",
       "chol        0.000000\n",
       "fbs         0.000000\n",
       "restecg     0.000000\n",
       "thalach     0.000000\n",
       "exang       0.000000\n",
       "oldpeak     0.000000\n",
       "slope       0.000000\n",
       "ca          0.013216\n",
       "thal        0.008811\n",
       "dtype: float64"
      ]
     },
     "execution_count": 36,
     "metadata": {},
     "output_type": "execute_result"
    }
   ],
   "source": [
    "# Add your code here:\n",
    "pd.DataFrame.isna(X_train).sum()/len(X_train)\n"
   ]
  },
  {
   "cell_type": "markdown",
   "metadata": {},
   "source": [
    "The missing values seem to only occur in two input features, and are missing in only a small amount of the training data."
   ]
  },
  {
   "cell_type": "markdown",
   "metadata": {},
   "source": [
    "<div class=\"alert alert-block alert-danger\">\n",
    "<h4>👩‍💻 Task 1.2: Deal with the missing values</h4>\n",
    "\n",
    "For each feature that has missing values:\n",
    "\n",
    "- Visualise the distribution of the values for that feature using a bar chart\n",
    "  - Remember to label your axes\n",
    "  - [Optional] If you like, you could also display bars for the NaN entries, which allows you to compare their frequency with the other categories\n",
    "- Select a method for dealing with the missing values, and **justify your answer in the Q/A box below**. Also explain why one *other* method would be **unsuitable**.\n",
    "- Implement your solution, and evaluate it using `evaluate`\n",
    "  - Your solution should modify `X_train`, `y_train`, `X_test`, and `y_test`\n",
    "  - Remember, **imputing missing values in the test set must only be done using information from the training set!**\n",
    "</div>\n",
    "\n",
    "<div class=\"alert alert-heading alert-danger\" style=\"background-color: white; border: 2px solid; border-radius: 5px; color: #000; border-color:#AAA; padding: 10px\">\n",
    "    <b>💎 Tip</b>\n",
    "\n",
    "- Create a copy of the unmodified dataframes so that if you make a mistake you don't have to re-run the notebook from the beginning!\n",
    "\n",
    "</div>"
   ]
  },
  {
   "cell_type": "code",
   "execution_count": 41,
   "metadata": {},
   "outputs": [
    {
     "name": "stdout",
     "output_type": "stream",
     "text": [
      "     age  sex  cp  trestbps  chol  fbs  restecg  thalach  exang  oldpeak  \\\n",
      "287   58    1   2       125   220    0        0      144      0      0.4   \n",
      "282   55    0   4       128   205    0        1      130      1      2.0   \n",
      "197   45    0   4       138   236    0        2      152      1      0.2   \n",
      "158   60    1   4       140   293    0        2      170      0      1.2   \n",
      "164   48    1   3       124   255    1        0      175      0      0.0   \n",
      "..   ...  ...  ..       ...   ...  ...      ...      ...    ...      ...   \n",
      "188   54    1   2       192   283    0        2      195      0      0.0   \n",
      "71    67    1   4       125   254    1        0      163      0      0.2   \n",
      "106   59    1   4       140   177    0        0      162      1      0.0   \n",
      "270   61    1   4       140   207    0        2      138      1      1.9   \n",
      "102   57    0   4       128   303    0        2      159      0      0.0   \n",
      "\n",
      "     slope   ca  thal  \n",
      "287      2  NaN   7.0  \n",
      "282      2  1.0   7.0  \n",
      "197      2  0.0   3.0  \n",
      "158      2  2.0   7.0  \n",
      "164      1  2.0   3.0  \n",
      "..     ...  ...   ...  \n",
      "188      1  1.0   7.0  \n",
      "71       2  2.0   7.0  \n",
      "106      1  1.0   7.0  \n",
      "270      1  1.0   7.0  \n",
      "102      1  1.0   3.0  \n",
      "\n",
      "[227 rows x 13 columns]\n"
     ]
    },
    {
     "data": {
      "text/plain": [
       "<Axes: ylabel='Frequency'>"
      ]
     },
     "execution_count": 41,
     "metadata": {},
     "output_type": "execute_result"
    },
    {
     "data": {
      "image/png": "[encoded data removed]",
      "text/plain": [
       "<Figure size 640x480 with 1 Axes>"
      ]
     },
     "metadata": {},
     "output_type": "display_data"
    }
   ],
   "source": [
    "# Add your code here:\n",
    "import matplotlib.pyplot as plt\n",
    "X_train1,X_test1,y_train1,y_test1 = X_train,X_test,y_train,y_test\n",
    "print(X_train1)\n",
    "\n",
    "X_train1['ca'].plot(kind='hist', edgecolor='black')\n",
    "X_train1['thal'].plot(kind='hist', edgecolor='black')"
   ]
  },
  {
   "cell_type": "markdown",
   "metadata": {},
   "source": [
    "<div class=\"alert alert-block alert-danger\">\n",
    "<b>Q: What method(s) will you use for dealing with the missing values? Why?</b>\n",
    "</div>"
   ]
  },
  {
   "cell_type": "markdown",
   "metadata": {},
   "source": [
    "**A:** *add your answer here*"
   ]
  },
  {
   "cell_type": "markdown",
   "metadata": {},
   "source": [
    "<div class=\"alert alert-block alert-danger\">\n",
    "<b>Q: What is an unsuitable method for dealing with the missing values? Why?</b>\n",
    "</div>"
   ]
  },
  {
   "cell_type": "markdown",
   "metadata": {},
   "source": [
    "**A:** *add your answer here*"
   ]
  },
  {
   "cell_type": "code",
   "execution_count": null,
   "metadata": {},
   "outputs": [],
   "source": [
    "# Add your code here:"
   ]
  },
  {
   "cell_type": "markdown",
   "metadata": {},
   "source": [
    "<hr>\n",
    "\n",
    "## 2. Transforming the distributions of features"
   ]
  },
  {
   "cell_type": "markdown",
   "metadata": {},
   "source": [
    "Many statistical classifiers work best if the distribution of each input feature follows a Gaussian distribution.\n",
    "\n",
    "<div class=\"alert alert-block alert-danger\">\n",
    "<h4>👩‍💻 Task 2.1: Visualising feature distributions</h4>\n",
    "\n",
    "- Using `matplotlib`, make a figure comprised of a subplot grid with 2 rows and 7 columns\n",
    "- On each subplot, plot the **histogram** of one of the input features\n",
    "- Which of the continuous variables appear to be **not** Gaussian-distributed? Write your answer in the Q/A box.\n",
    "</div>\n",
    "\n",
    "<div class=\"alert alert-heading alert-danger\" style=\"background-color: white; border: 2px solid; border-radius: 5px; color: #000; border-color:#AAA; padding: 10px\">\n",
    "    <b>💎 Tip</b>\n",
    "\n",
    "- If your figure has overlapping labels or looks a bit squashed, try using `plt.tight_layout()` at the end of the cell.\n",
    "\n",
    "</div>"
   ]
  },
  {
   "cell_type": "code",
   "execution_count": null,
   "metadata": {},
   "outputs": [],
   "source": [
    "# Add your code here:"
   ]
  },
  {
   "cell_type": "markdown",
   "metadata": {},
   "source": [
    "<div class=\"alert alert-block alert-danger\">\n",
    "<b>Q: Which of the continuous variables are not Gaussian distributed?\n",
    "</div>"
   ]
  },
  {
   "cell_type": "markdown",
   "metadata": {},
   "source": [
    "**A:** *add your answer here*"
   ]
  },
  {
   "cell_type": "markdown",
   "metadata": {},
   "source": [
    "<div class=\"alert alert-block alert-danger\">\n",
    "<h4>👩‍💻 Task 2.2: Transforming the distributions </h4>\n",
    "\n",
    "- `scipy` provides an implementation of the Yeo-Johnson transformation. Find it (via your favourite search engine) and use it to transform the variables you identified above.\n",
    "- Evaluate the model on the transformed data, and compare to the scores on the untransformed data.\n",
    "- How have the scores of the model on the training and test set changed? Have we improved the model's ability to generalise? How do you know? Write your answer in the Q/A box.\n",
    "- Visualise histograms of the transformed distributions\n",
    "\n",
    "</div>\n",
    "\n",
    "\n",
    "<div class=\"alert alert-heading alert-danger\" style=\"background-color: white; border: 2px solid; border-radius: 5px; color: #000; border-color:#AAA; padding: 10px\">\n",
    "    <b>💎 Tip</b>\n",
    "\n",
    "- Create a copy of the unmodified dataframes so that if you make a mistake you don't have to re-run the notebook from the beginning.\n",
    "- Remember to re-train the model on the transformed data using `support_vector_machine.train`.\n",
    "\n",
    "</div>"
   ]
  },
  {
   "cell_type": "code",
   "execution_count": null,
   "metadata": {},
   "outputs": [],
   "source": [
    "# Add your code here:"
   ]
  },
  {
   "cell_type": "markdown",
   "metadata": {},
   "source": [
    "<div class=\"alert alert-block alert-danger\">\n",
    "<b>Q: How have the scores of the model on the training and test set have changed? Have we improved the model's ability to generalise? How do you know?\n",
    "</div>"
   ]
  },
  {
   "cell_type": "markdown",
   "metadata": {},
   "source": [
    "**A**: *add your answer here*"
   ]
  },
  {
   "cell_type": "code",
   "execution_count": null,
   "metadata": {},
   "outputs": [],
   "source": [
    "# Add your code here:"
   ]
  },
  {
   "cell_type": "markdown",
   "metadata": {},
   "source": [
    "<hr>\n",
    "\n",
    "## 3. Discretising an input feature"
   ]
  },
  {
   "cell_type": "markdown",
   "metadata": {},
   "source": [
    "Sometimes, we might want to turn a continuous feature into a discrete one. Sometimes, this is necessary, as some models only work with discrete inputs. Other times, we might find that discretisation improves the model's performance, as it helps it to generalise better.\n",
    "\n",
    "\n",
    "<div class=\"alert alert-block alert-danger\">\n",
    "<h4>👩‍💻 Task 3.1: Discretising a continuous feature</h4>\n",
    "\n",
    "- The values in the transformed `thalach` column are high resolution and vary over a large range. This means that they might benefit from being discretised!\n",
    "- Plot a **cumulative density histogram** of the values in the `thalach` column of the training data.\n",
    "- Pandas provides `qcut`, a function for discretising a DataFrame based on quantiles (i.e., ensuring that each bin has a similar count). It also provides `cut`, a function for discretising based on predefined bin edges. Using these functions, discretise the `thalach` column into **10 bins**. The bin edges should be such that each bin has a similar count. Your final code should modify both training and test DataFrames.\n",
    "- Evaluate the performance of the model with a continuous `thalach` column and with a discretised `thalach` column.\n",
    "- Plot a bar chart of the binned `thalach` data.\n",
    "- In the Q/A box, explain why this discretisation has improved the model's performance.\n",
    "\n",
    "<details>\n",
    "    <summary>🔎 Hint</summary>\n",
    "    You can plot a cumulative density histogram by supplying additional keyword arguments to the standard histogram function.\n",
    "    </details>\n",
    "\n",
    "</div>"
   ]
  },
  {
   "cell_type": "markdown",
   "metadata": {},
   "source": [
    "<div class=\"alert alert-heading alert-danger\" style=\"background-color: white; border: 2px solid; border-radius: 5px; color: #000; border-color:#AAA; padding: 10px\">\n",
    "    <b>💎 Tip</b>\n",
    "\n",
    "- Use data with no NaNs, and with Yeo-Johnson transformed variables.\n",
    "- Remember, you can't use statistical properties of the test set when transforming the test data points.\n",
    "- For the model we are using, the bin labels must be integers (for example, you could use `0` to represent `thalach < X`, `1` to represent `X < thalach < Y`, and so on).\n",
    "\n",
    "</div>"
   ]
  },
  {
   "cell_type": "code",
   "execution_count": null,
   "metadata": {},
   "outputs": [],
   "source": [
    "# Add your code here:"
   ]
  },
  {
   "cell_type": "code",
   "execution_count": null,
   "metadata": {},
   "outputs": [],
   "source": [
    "# Add your code here:"
   ]
  },
  {
   "cell_type": "code",
   "execution_count": null,
   "metadata": {},
   "outputs": [],
   "source": [
    "# Add your code here:"
   ]
  },
  {
   "cell_type": "markdown",
   "metadata": {},
   "source": [
    "<div class=\"alert alert-block alert-danger\">\n",
    "<b>Q: Why has discretising <code>thalach</code> improved the model's performance?</b>\n",
    "</div>"
   ]
  },
  {
   "cell_type": "markdown",
   "metadata": {},
   "source": [
    "**A:** *add your answer here*"
   ]
  },
  {
   "cell_type": "markdown",
   "metadata": {},
   "source": [
    "<hr>\n",
    "\n",
    "## 4. Feature selection\n"
   ]
  },
  {
   "cell_type": "markdown",
   "metadata": {},
   "source": [
    "In this section, our goal is to reduce the number of inputs that the model requires to make a prediction, without losing too much performance. In fact, as we'll see, sometimes selecting only the most relevant features can even *boost* performance.\n",
    "\n",
    "We want to select **5** input features, from the 13 possible candidates. We explore a few methods for identifying the most important features."
   ]
  },
  {
   "cell_type": "markdown",
   "metadata": {},
   "source": [
    "### 4.1 Using mutual information"
   ]
  },
  {
   "cell_type": "markdown",
   "metadata": {},
   "source": [
    "`scikit-learn` provides `mutual_info_classif` to approximate the mutual information criterion for classification problems."
   ]
  },
  {
   "cell_type": "code",
   "execution_count": null,
   "metadata": {},
   "outputs": [],
   "source": [
    "from sklearn.feature_selection import mutual_info_classif\n",
    "help(mutual_info_classif)"
   ]
  },
  {
   "cell_type": "markdown",
   "metadata": {},
   "source": [
    "<div class=\"alert alert-block alert-danger\">\n",
    "<h4>👩‍💻 Task 4.1: Identifying important features using mutual information</h4>\n",
    "\n",
    "- Compute the mutual information criterion for the training data using `mutual_info_classif`. Set the `random_state` parameter to the `seed` variable you defined before.\n",
    "- Plot a bar chart of the results, where the x-axis labels are column names and the y-axis values are the mutual information between each column and the output variable.\n",
    "- In the Q/A box, write the column names of the 5 features with highest mutual information with the output.\n",
    "- Evaluate the model with all 13 features, and with only the top 5 mutual information features. **Has the performance of the model improved, stayed the same, or got worse? What does that tell us about the feature importance?** Answer in the Q/A box.\n",
    "- Why might a model improve when the number of input features is reduced? Answer in the Q/A box.\n",
    "</div>\n",
    "\n",
    "<div class=\"alert alert-heading alert-danger\" style=\"background-color: white; border: 2px solid; border-radius: 5px; color: #000; border-color:#AAA; padding: 10px\">\n",
    "<b>💎 Tip</b>\n",
    "\n",
    "- Use the model that has been trained on the data with no NaNs, Yeo-Johnson transformed variables, and binned `thalach`.\n",
    "- You can use `np.argsort(A)` to get the indices that would sort an array `A`. The indices can then be used to get a sorted version of something else.\n",
    "- If you get a warning from `sklearn`, replace `y_train` with `np.ravel(y_train)`. This simply flattens the `y_train` array, to ensure that it's 1D.\n",
    "- For this section, don't modify or overwrite any of the DataFrames! Create new copies, instead.\n",
    "</div>"
   ]
  },
  {
   "cell_type": "code",
   "execution_count": null,
   "metadata": {},
   "outputs": [],
   "source": [
    "# Add your code here:"
   ]
  },
  {
   "cell_type": "markdown",
   "metadata": {},
   "source": [
    "<div class=\"alert alert-block alert-danger\">\n",
    "<b>Q: What are the 5 columns with the highest mutual information with the output?</b>\n",
    "</div>"
   ]
  },
  {
   "cell_type": "markdown",
   "metadata": {},
   "source": [
    "**A**: *add your answer here*"
   ]
  },
  {
   "cell_type": "code",
   "execution_count": null,
   "metadata": {},
   "outputs": [],
   "source": [
    "# Add your code here:"
   ]
  },
  {
   "cell_type": "markdown",
   "metadata": {},
   "source": [
    "<div class=\"alert alert-block alert-danger\">\n",
    "<b>Q: Has the model performance improved, stayed the same, or got worse? What does that tell us about the feature importance?</b> \n",
    "</div>"
   ]
  },
  {
   "cell_type": "markdown",
   "metadata": {},
   "source": [
    "**A**: *add your answer here*"
   ]
  },
  {
   "cell_type": "markdown",
   "metadata": {},
   "source": [
    "<div class=\"alert alert-block alert-danger\">\n",
    "<b>Q: Why might a model improve when the number of features is reduced?</b> \n",
    "</div>"
   ]
  },
  {
   "cell_type": "markdown",
   "metadata": {},
   "source": [
    "**A**: *add your answer here*"
   ]
  },
  {
   "cell_type": "markdown",
   "metadata": {},
   "source": [
    "### 4.2 Using SHAP"
   ]
  },
  {
   "cell_type": "markdown",
   "metadata": {},
   "source": [
    "SHAP is a Python package for computing *Shapley values*, which are an idea from game theory. The basic principle is to **allocate credit for a model’s output among its input features**. Hence, for a given output prediction, we can gain insight into **which input features** contributed to the prediction.\n",
    "\n",
    "SHAP is a hugely powerful tool, as you can apply it to any machine learning model (even LLMs!) to provide a greater degree of interpretability. However, not many people have heard of it. If you're interested, there's some really cool theory behind it [[paper](https://arxiv.org/abs/1705.07874)].\n",
    "\n",
    "<div class=\"alert alert-block alert-danger\">\n",
    "<h4>👩‍💻 Task 4.2: Identifying important features using Shapley additive values (SHAP)</h4>\n",
    "\n",
    "- Using `shap.utils.sample`, generate a subset of 100 points from the training set to act as 'background data'. Ideally, we'd use the full training set, but it gets quite slow to compute, so we use a subset for this lab.\n",
    "- Create a SHAP explainer object using `shap.KernelExplainer`, your background data, and the class probability prediction function from our model (stored in `model.predict_proba`).\n",
    "- Run the explainer on the test set, storing the result in a variable called `shap_values`.\n",
    "- Using `shap.plots.bar`, visualise the average SHAP absolute values. What are the top 5 features according to SHAP? Does SHAP agree with the mutual information criterion? Answer in the Q/A box.\n",
    "- Has the model performance improved, stayed the same, or got worse? What does that tell us about the feature importance?  Answer in the Q/A box.\n",
    "<details>\n",
    "<summary>🔎 Hint</summary>\n",
    "If you're stuck, see whether you can find anything helpful on <a href=https://github.com/shap/shap#sample-notebooks>SHAP's Git repo</a>.\n",
    "</details>\n",
    "</div>\n",
    "\n",
    "<div class=\"alert alert-heading alert-danger\" style=\"background-color: white; border: 2px solid; border-radius: 5px; color: #000; border-color:#AAA; padding: 10px\">\n",
    "<b>💎 Tip</b>\n",
    "\n",
    "- Use the model that has been trained on the data with no NaNs, Yeo-Johnson transformed variables, and binned `thalach`.\n",
    "- **Remember to set the random state of the `sample()` function to the `seed` variable from before.**\n",
    "- Computing SHAP values takes a minute or so, so why not watch [this explanation](https://www.youtube.com/watch?v=MQ6fFDwjuco) of what's going on while your code is running.\n",
    "- The exact choice of SHAP explainer that you use depends on the model that you want to explain. As the model we're using (nonlinear support vector machine) can be formulated using kernels, we use a `KernelExplainer`. Don't worry if none of those words mean anything to you, it's not important for this course.\n",
    "</div>"
   ]
  },
  {
   "cell_type": "code",
   "execution_count": null,
   "metadata": {},
   "outputs": [],
   "source": [
    "import shap\n",
    "shap.initjs()\n",
    "\n",
    "# Sample 100 datapoints as \"background data\"\n",
    "# Add your code here:\n",
    "\n",
    "# Create a SHAP explainer\n",
    "# Add your code here:\n",
    "\n",
    "# Evaluate the explainer on the test set\n",
    "# Add your code here:\n",
    "\n",
    "# shap_values is an array of shape (n_samples, n_features, n_outputs)\n",
    "# Confusingly, although we only have binary outcomes (1 or 0), SHAP still returns 2 outputs\n",
    "# The output at index 1 is the probability that the patient has heart disease\n",
    "shap_values = shap_values[:, :, 1]\n",
    "\n",
    "# Plot the SHAP values\n",
    "# Add your code here:\n"
   ]
  },
  {
   "cell_type": "markdown",
   "metadata": {},
   "source": [
    "<div class=\"alert alert-block alert-danger\">\n",
    "<b>Q: What are the top 5 features according to SHAP? Does SHAP agree with the mutual information criterion?</b> \n",
    "</div>"
   ]
  },
  {
   "cell_type": "markdown",
   "metadata": {},
   "source": [
    "**A:** *add your answer here*"
   ]
  },
  {
   "cell_type": "code",
   "execution_count": null,
   "metadata": {},
   "outputs": [],
   "source": [
    "# Add your code here:"
   ]
  },
  {
   "cell_type": "markdown",
   "metadata": {},
   "source": [
    "<div class=\"alert alert-block alert-danger\">\n",
    "<b>Q: Has the model performance improved, stayed the same, or got worse? What does that tell us about the feature importance?</b> \n",
    "</div>"
   ]
  },
  {
   "cell_type": "markdown",
   "metadata": {},
   "source": [
    "**A**: *add your answer here*"
   ]
  },
  {
   "cell_type": "markdown",
   "metadata": {},
   "source": [
    "<div class=\"alert alert-block alert-warning\">\n",
    "<h4>👩‍💻 [Optional] Task 4.2b: Explaining single predictions with SHAP waterfall plots</h4>\n",
    "\n",
    "SHAP can also be used to understand why the model predicted a particular output class for a particular input.\n",
    "\n",
    "Using `shap.plots.waterfall`, compare 3 candidates (2 from the same class, and one from the other class). Draw some comparisons between them. For each patient, what are the most significant features? How sure is the model of its predictions?\n",
    "\n",
    "</div>"
   ]
  },
  {
   "cell_type": "code",
   "execution_count": null,
   "metadata": {},
   "outputs": [],
   "source": [
    "# Add your code here:"
   ]
  },
  {
   "cell_type": "markdown",
   "metadata": {},
   "source": [
    "<div class=\"alert alert-block alert-warning\">\n",
    "<b>Q: What are some similarities and differences between the patients? What are the most significant features? How sure is the model of its predictions?</b> \n",
    "</div>"
   ]
  },
  {
   "cell_type": "markdown",
   "metadata": {},
   "source": [
    "**A**: *add your answer here*"
   ]
  },
  {
   "cell_type": "markdown",
   "metadata": {},
   "source": [
    "### 4.3 Using principal components"
   ]
  },
  {
   "cell_type": "markdown",
   "metadata": {},
   "source": [
    "We're not limited to keeping the input features in the same geometrical space that they came in. In fact, there might be a way of projecting the data onto another co-ordinate system where their influence is easier to separate.\n",
    "\n",
    "One method for doing this is *principal component analysis* (PCA), a concept from linear algebra. PCA effectively involves computing the eigenvalues and eigenvectors of the input data, and then using these as the new co-ordinate basis. In pictures, that looks something like this:\n",
    "\n",
    "![PCA in 2D](figures/pca.png)\n",
    "\n",
    "By only keeping the eigenvectors corresponding to the largest eigenvalues, we end up with a reduced set of input coordinates that should explain most of the data.\n",
    "\n",
    "If you're interested in more detail, check out [this excellent tutorial](https://setosa.io/ev/principal-component-analysis/), which is the source of the above figure.\n",
    "\n",
    "<div class=\"alert alert-block alert-danger\">\n",
    "<h4>👩‍💻 Task 4.3 Identifying important (transformed) features using PCA</h4>\n",
    "\n",
    "- Scikit-learn provides a PCA function. Find its documentation and use it to compute the first 5 principal components of the training data. Transform the training and test data with these components.\n",
    "- Compare the model performance with only the first 5 principal components and the whole data. How does the performance compare to the mutual information and SHAP methods? Answer in the Q/A box. \n",
    "\n",
    "</div>\n"
   ]
  },
  {
   "cell_type": "code",
   "execution_count": null,
   "metadata": {},
   "outputs": [],
   "source": [
    "# Add your code here:"
   ]
  },
  {
   "cell_type": "markdown",
   "metadata": {},
   "source": [
    "<div class=\"alert alert-block alert-danger\">\n",
    "<b>Q: How does the PCA performance compare to the mutual information and SHAP methods?</b> \n",
    "</div>"
   ]
  },
  {
   "cell_type": "markdown",
   "metadata": {},
   "source": [
    "**A**: *add your answer here*"
   ]
  },
  {
   "cell_type": "markdown",
   "metadata": {},
   "source": [
    "<div class=\"alert alert-block alert-warning\">\n",
    "<h4>👩‍💻 [Optional] Task 4.3b: Quantifying the effect of more principal components</h4>\n",
    "\n",
    "- With PCA, we can compute how well a given set of principal components represents the data.\n",
    "- Create a plot showing how the percentage of variance explained by the principal components changes as the number of components is increased from 0 to 13.\n",
    "\n",
    "<details>\n",
    "<summary>🔎 Hint</summary>\n",
    "The PCA object has a property that might be useful in computing the explained variance. The easiest way of generating the plot is with a loop.\n",
    "</details>\n",
    "</div>"
   ]
  },
  {
   "cell_type": "code",
   "execution_count": null,
   "metadata": {},
   "outputs": [],
   "source": [
    "# Add your code here:"
   ]
  },
  {
   "cell_type": "markdown",
   "metadata": {},
   "source": [
    "### 4.4 Conclusion"
   ]
  },
  {
   "cell_type": "markdown",
   "metadata": {},
   "source": [
    "<div class=\"alert alert-block alert-danger\">\n",
    "<h4>👩‍💻 Task 4.4: Reviewing the results</h4>\n",
    "\n",
    "- What are the strengths and weaknesses of the feature selection methods we've discussed in this section? Answer in the Q/A box below.\n",
    "- Your answer should include reference to the **real-world scenario** of this dataset.\n",
    "- Also consider how the methods are affected by any sources of **randomness**, and how they deal with **correlated features**.\n",
    "</div>\n",
    "<div class=\"alert alert-heading alert-danger\" style=\"background-color: white; border: 2px solid; border-radius: 5px; color: #000; border-color:#AAA; padding: 10px\">\n",
    "<b>💎 Tip</b>\n",
    "\n",
    "- You might have to carefully revisit the documentation for `mutual_info_classif` to spot how randomness plays a role in this method.\n",
    "</div>"
   ]
  },
  {
   "cell_type": "markdown",
   "metadata": {},
   "source": [
    "<div class=\"alert alert-block alert-danger\">\n",
    "<b>Q: What are the strengths and weaknesses of the feature selection methods we've discussed in this section?</b> \n",
    "</div>"
   ]
  },
  {
   "cell_type": "markdown",
   "metadata": {},
   "source": [
    "**A**: *add your answer here*"
   ]
  }
 ],
 "metadata": {
  "kernelspec": {
   "display_name": "daps",
   "language": "python",
   "name": "python3"
  },
  "language_info": {
   "codemirror_mode": {
    "name": "ipython",
    "version": 3
   },
   "file_extension": ".py",
   "mimetype": "text/x-python",
   "name": "python",
   "nbconvert_exporter": "python",
   "pygments_lexer": "ipython3",
   "version": "3.11.5"
  }
 },
 "nbformat": 4,
 "nbformat_minor": 2
}
